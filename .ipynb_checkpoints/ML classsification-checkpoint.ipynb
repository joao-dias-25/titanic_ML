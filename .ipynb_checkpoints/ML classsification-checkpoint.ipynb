{
 "cells": [
  {
   "cell_type": "markdown",
   "id": "b1fd6be2",
   "metadata": {},
   "source": [
    "# 1. Let’s import the data"
   ]
  },
  {
   "cell_type": "code",
   "execution_count": 6,
   "id": "4853a47c",
   "metadata": {},
   "outputs": [],
   "source": [
    " import pandas as pd"
   ]
  },
  {
   "cell_type": "code",
   "execution_count": 7,
   "id": "539b211f",
   "metadata": {},
   "outputs": [],
   "source": [
    "df = pd.read_csv(\"titanic_dataset/train.csv\")"
   ]
  },
  {
   "cell_type": "markdown",
   "id": "387fb832",
   "metadata": {},
   "source": [
    "# 2. EDA (Exploratory data analysis)"
   ]
  },
  {
   "cell_type": "code",
   "execution_count": 9,
   "id": "fa696265",
   "metadata": {},
   "outputs": [
    {
     "data": {
      "text/plain": [
       "['PassengerId',\n",
       " 'Survived',\n",
       " 'Pclass',\n",
       " 'Name',\n",
       " 'Sex',\n",
       " 'Age',\n",
       " 'SibSp',\n",
       " 'Parch',\n",
       " 'Ticket',\n",
       " 'Fare',\n",
       " 'Cabin',\n",
       " 'Embarked']"
      ]
     },
     "execution_count": 9,
     "metadata": {},
     "output_type": "execute_result"
    }
   ],
   "source": [
    "# columns information\n",
    "list(df.columns)"
   ]
  },
  {
   "cell_type": "code",
   "execution_count": 10,
   "id": "1e0e337a",
   "metadata": {},
   "outputs": [
    {
     "name": "stdout",
     "output_type": "stream",
     "text": [
      "Total number of columns are 12\n"
     ]
    }
   ],
   "source": [
    "print(f\"Total number of columns are {len(list(df.columns))}\")"
   ]
  },
  {
   "cell_type": "code",
   "execution_count": 11,
   "id": "fa254a23",
   "metadata": {},
   "outputs": [],
   "source": [
    "# Let's seperate the dataset\n",
    "y = df[[\"Survived\"]]"
   ]
  },
  {
   "cell_type": "code",
   "execution_count": null,
   "id": "20a4f11c",
   "metadata": {},
   "outputs": [],
   "source": []
  }
 ],
 "metadata": {
  "kernelspec": {
   "display_name": "Python 3 (ipykernel)",
   "language": "python",
   "name": "python3"
  },
  "language_info": {
   "codemirror_mode": {
    "name": "ipython",
    "version": 3
   },
   "file_extension": ".py",
   "mimetype": "text/x-python",
   "name": "python",
   "nbconvert_exporter": "python",
   "pygments_lexer": "ipython3",
   "version": "3.9.12"
  }
 },
 "nbformat": 4,
 "nbformat_minor": 5
}
